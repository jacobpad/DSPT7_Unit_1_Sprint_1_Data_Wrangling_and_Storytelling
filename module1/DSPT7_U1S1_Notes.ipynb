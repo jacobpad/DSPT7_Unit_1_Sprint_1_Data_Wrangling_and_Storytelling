{
  "nbformat": 4,
  "nbformat_minor": 0,
  "metadata": {
    "colab": {
      "name": "DSPT7_U1S1_Notes.ipynb",
      "provenance": [],
      "collapsed_sections": [],
      "authorship_tag": "ABX9TyMAnPHGJmmf1WQrsH31PzOu",
      "include_colab_link": true
    },
    "kernelspec": {
      "name": "python3",
      "display_name": "Python 3"
    }
  },
  "cells": [
    {
      "cell_type": "markdown",
      "metadata": {
        "id": "view-in-github",
        "colab_type": "text"
      },
      "source": [
        "<a href=\"https://colab.research.google.com/github/jacobpad/DSPT7_Unit_1_Sprint_1_Data_Wrangling_and_Storytelling/blob/master/module1/DSPT7_U1S1_Notes.ipynb\" target=\"_parent\"><img src=\"https://colab.research.google.com/assets/colab-badge.svg\" alt=\"Open In Colab\"/></a>"
      ]
    },
    {
      "cell_type": "markdown",
      "metadata": {
        "id": "xW4VGBFKUtiT",
        "colab_type": "text"
      },
      "source": [
        "[Pull request](https://youtu.be/WjtnsBj_MV0?t=1549) with Austin Lasseter  \n",
        "[Make Colab & Github play nice together](https://youtu.be/MdZU5wacLvc?t=1283) With Ryan Allred  \n",
        "[Push to Github](https://youtu.be/MdZU5wacLvc?t=2014) With Ryan Allred  \n",
        "[Pull requests](https://youtu.be/MdZU5wacLvc?t=2378) with Ryan Allred  \n"
      ]
    }
  ]
}